{
  "nbformat": 4,
  "nbformat_minor": 0,
  "metadata": {
    "colab": {
      "provenance": []
    },
    "kernelspec": {
      "name": "python3",
      "display_name": "Python 3"
    },
    "language_info": {
      "name": "python"
    }
  },
  "cells": [
    {
      "cell_type": "code",
      "execution_count": 1,
      "metadata": {
        "colab": {
          "base_uri": "https://localhost:8080/"
        },
        "id": "3scpsTYen9lF",
        "outputId": "cb8dd426-f990-4c41-d209-ba40bc51220c"
      },
      "outputs": [
        {
          "output_type": "stream",
          "name": "stdout",
          "text": [
            "Requirement already satisfied: kaggle in /usr/local/lib/python3.10/dist-packages (1.5.16)\n",
            "Requirement already satisfied: six>=1.10 in /usr/local/lib/python3.10/dist-packages (from kaggle) (1.16.0)\n",
            "Requirement already satisfied: certifi in /usr/local/lib/python3.10/dist-packages (from kaggle) (2023.7.22)\n",
            "Requirement already satisfied: python-dateutil in /usr/local/lib/python3.10/dist-packages (from kaggle) (2.8.2)\n",
            "Requirement already satisfied: requests in /usr/local/lib/python3.10/dist-packages (from kaggle) (2.31.0)\n",
            "Requirement already satisfied: tqdm in /usr/local/lib/python3.10/dist-packages (from kaggle) (4.66.1)\n",
            "Requirement already satisfied: python-slugify in /usr/local/lib/python3.10/dist-packages (from kaggle) (8.0.1)\n",
            "Requirement already satisfied: urllib3 in /usr/local/lib/python3.10/dist-packages (from kaggle) (2.0.7)\n",
            "Requirement already satisfied: bleach in /usr/local/lib/python3.10/dist-packages (from kaggle) (6.1.0)\n",
            "Requirement already satisfied: webencodings in /usr/local/lib/python3.10/dist-packages (from bleach->kaggle) (0.5.1)\n",
            "Requirement already satisfied: text-unidecode>=1.3 in /usr/local/lib/python3.10/dist-packages (from python-slugify->kaggle) (1.3)\n",
            "Requirement already satisfied: charset-normalizer<4,>=2 in /usr/local/lib/python3.10/dist-packages (from requests->kaggle) (3.3.2)\n",
            "Requirement already satisfied: idna<4,>=2.5 in /usr/local/lib/python3.10/dist-packages (from requests->kaggle) (3.4)\n"
          ]
        }
      ],
      "source": [
        "!pip install kaggle\n"
      ]
    },
    {
      "cell_type": "code",
      "source": [
        "import os\n",
        "\n",
        "# Make sure to upload 'kaggle.json' file to your environment first\n",
        "os.environ['KAGGLE_USERNAME'] = \"netflixnice\"  # replace with your Kaggle username\n",
        "os.environ['KAGGLE_KEY'] = \"a57c060085cb6470273355d027a49678\"            # replace with your Kaggle key\n",
        "\n"
      ],
      "metadata": {
        "id": "6iL82lVboL2i"
      },
      "execution_count": 1,
      "outputs": []
    },
    {
      "cell_type": "code",
      "source": [
        "!kaggle datasets download -d ttahara/birdsong-resampled-train-audio-00\n",
        "!unzip -q birdsong-resampled-train-audio-00.zip -d dataset_folder\n"
      ],
      "metadata": {
        "colab": {
          "base_uri": "https://localhost:8080/"
        },
        "id": "-OGMGpwmpjjd",
        "outputId": "0255d380-e626-4341-cd46-4496db8cdb21"
      },
      "execution_count": 2,
      "outputs": [
        {
          "output_type": "stream",
          "name": "stdout",
          "text": [
            "Downloading birdsong-resampled-train-audio-00.zip to /content\n",
            "100% 11.7G/11.7G [02:18<00:00, 96.4MB/s]\n",
            "100% 11.7G/11.7G [02:18<00:00, 91.3MB/s]\n"
          ]
        }
      ]
    },
    {
      "cell_type": "code",
      "source": [
        "import librosa\n",
        "import numpy as np\n",
        "import matplotlib.pyplot as plt\n",
        "\n",
        "\n",
        "def spectral_gate_and_spectrogram(audio_file, threshold=20, frame_length=2048, hop_length=512, target_size=(128, 128)):\n",
        "    y, sr = librosa.load(audio_file, sr=None)\n",
        "    stft = librosa.stft(y, n_fft=frame_length, hop_length=hop_length)\n",
        "    magnitude, phase = librosa.magphase(stft)\n",
        "    magnitude_db = librosa.amplitude_to_db(magnitude)\n",
        "\n",
        "    mask = magnitude_db > threshold\n",
        "    magnitude_db_filtered = magnitude_db * mask\n",
        "    filtered_magnitude = librosa.db_to_amplitude(magnitude_db_filtered)\n",
        "    y_filtered = librosa.istft(filtered_magnitude * phase, hop_length=hop_length)\n",
        "\n",
        "    S = librosa.feature.melspectrogram(y=y_filtered, sr=sr)\n",
        "    S_DB = librosa.power_to_db(S, ref=np.max)\n",
        "\n",
        "    # Save the spectrogram to a file\n",
        "    spectrogram_path = os.path.splitext(audio_file)[0] + \"_spectrogram.png\"\n",
        "    plt.figure(figsize=(10, 4))\n",
        "    librosa.display.specshow(S_DB, sr=sr, x_axis='time', y_axis='mel')\n",
        "    plt.axis('off')\n",
        "    plt.savefig(spectrogram_path, bbox_inches='tight', pad_inches=0)\n",
        "    plt.close()\n",
        "\n",
        "    # Open the saved spectrogram and resize\n",
        "    img = Image.open(spectrogram_path)\n",
        "    img = img.resize(target_size, Image.ANTIALIAS)\n",
        "\n",
        "    # Convert to array and normalize\n",
        "    img_array = img_to_array(img)\n",
        "    img_array = img_array / 255.0\n",
        "\n",
        "    return img_array, spectrogram_path\n",
        "\n",
        "\n",
        "def get_audio_files_and_labels(dataset_dir):\n",
        "    audio_files = []\n",
        "    labels = []\n",
        "\n",
        "    for species in os.listdir(dataset_dir):\n",
        "        species_dir = os.path.join(dataset_dir, species)\n",
        "        if os.path.isdir(species_dir):\n",
        "            for audio_file in os.listdir(species_dir):\n",
        "                audio_files.append(os.path.join(species_dir, audio_file))\n",
        "                labels.append(species)\n",
        "\n",
        "    return audio_files, labels\n",
        "\n",
        "def preprocess_dataset(audio_files):\n",
        "    spectrograms = []\n",
        "    for file in audio_files:\n",
        "        spectrogram = spectral_gate_and_spectrogram(file)\n",
        "        spectrograms.append(spectrogram)\n",
        "    return np.array(spectrograms)\n",
        "\n",
        "dataset_dir = 'dataset_folder'\n",
        "audio_files, labels = get_audio_files_and_labels(dataset_dir)\n",
        "spectrograms = preprocess_dataset(audio_files)\n"
      ],
      "metadata": {
        "colab": {
          "base_uri": "https://localhost:8080/"
        },
        "id": "S_D2RXCPpnVB",
        "outputId": "5c9080aa-8ea3-4100-9d55-30e73e5b50ac"
      },
      "execution_count": null,
      "outputs": [
        {
          "output_type": "stream",
          "name": "stderr",
          "text": [
            "<ipython-input-4-01e97c46d64d>:30: DeprecationWarning: ANTIALIAS is deprecated and will be removed in Pillow 10 (2023-07-01). Use LANCZOS or Resampling.LANCZOS instead.\n",
            "  img = img.resize(target_size, Image.ANTIALIAS)\n"
          ]
        }
      ]
    },
    {
      "cell_type": "code",
      "source": [],
      "metadata": {
        "id": "P5pQJ9fIsvgQ"
      },
      "execution_count": null,
      "outputs": []
    },
    {
      "cell_type": "code",
      "source": [
        "from sklearn.preprocessing import LabelEncoder\n",
        "from keras.utils import to_categorical\n",
        "from sklearn.model_selection import train_test_split\n",
        "\n",
        "encoder = LabelEncoder()\n",
        "encoded_labels = encoder.fit_transform(labels)\n",
        "categorical_labels = to_categorical(encoded_labels)\n",
        "\n",
        "# Splitting the dataset\n",
        "X_train, X_test, y_train, y_test = train_test_split(spectrograms, categorical_labels, test_size=0.2, random_state=42)\n"
      ],
      "metadata": {
        "id": "6Cxvbk5qvhUr"
      },
      "execution_count": null,
      "outputs": []
    },
    {
      "cell_type": "code",
      "source": [
        "from keras.models import Sequential\n",
        "from keras.layers import Conv2D, MaxPooling2D, Flatten, Dense, Dropout\n",
        "\n",
        "def build_model(input_shape, num_classes):\n",
        "    model = Sequential([\n",
        "        Conv2D(32, (3, 3), activation='relu', input_shape=input_shape),\n",
        "        MaxPooling2D(2, 2),\n",
        "        Conv2D(64, (3, 3), activation='relu'),\n",
        "        MaxPooling2D(2, 2),\n",
        "        Flatten(),\n",
        "        Dense(64, activation='relu'),\n",
        "        Dropout(0.5),\n",
        "        Dense(num_classes, activation='softmax')\n",
        "    ])\n",
        "    model.compile(optimizer='adam', loss='categorical_crossentropy', metrics=['accuracy'])\n",
        "    return model\n",
        "\n",
        "# Assuming your spectrograms are reshaped properly\n",
        "model = build_model(input_shape=X_train.shape[1:], num_classes=y_train.shape[1])\n",
        "model.fit(X_train, y_train, epochs=10, batch_size=32, validation_data=(X_test, y_test))\n",
        "\n",
        "# Save the model\n",
        "model.save('bird_classification_model.h5')\n"
      ],
      "metadata": {
        "id": "YMofw6ewvkt2"
      },
      "execution_count": null,
      "outputs": []
    },
    {
      "cell_type": "code",
      "source": [
        "from keras.models import load_model\n",
        "\n",
        "def predict_species(audio_file, model_path='bird_classification_model.h5'):\n",
        "    model = load_model(model_path)\n",
        "    spectrogram = spectral_gate_and_spectrogram(audio_file)\n",
        "    spectrogram = np.expand_dims(spectrogram, axis=0)\n",
        "    prediction = model.predict(spectrogram)\n",
        "    predicted_label = np.argmax(prediction, axis=1)\n",
        "    return encoder.inverse_transform(predicted_label)\n",
        "\n",
        "# Example usage\n",
        "# species = predict_species('path_to_new_audio_file.wav')\n"
      ],
      "metadata": {
        "id": "91D41vO1vola"
      },
      "execution_count": null,
      "outputs": []
    }
  ]
}